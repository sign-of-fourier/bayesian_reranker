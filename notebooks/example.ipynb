{
 "cells": [
  {
   "cell_type": "markdown",
   "id": "f1f2de4b-b4aa-4f20-bedb-e930369a8599",
   "metadata": {
    "execution": {
     "iopub.execute_input": "2025-10-06T15:25:58.879492Z",
     "iopub.status.busy": "2025-10-06T15:25:58.879164Z",
     "iopub.status.idle": "2025-10-06T15:25:59.712901Z",
     "shell.execute_reply": "2025-10-06T15:25:59.711925Z",
     "shell.execute_reply.started": "2025-10-06T15:25:58.879470Z"
    }
   },
   "source": [
    "# Bayesian Reranker"
   ]
  },
  {
   "cell_type": "code",
   "execution_count": 14,
   "id": "0694a2b1-ad07-434a-8b00-2f225f34428e",
   "metadata": {},
   "outputs": [],
   "source": [
    "import pandas as pd\n",
    "import openai\n",
    "from azure.core.credentials import AzureKeyCredential\n",
    "import more_itertools\n",
    "import chromadb\n",
    "import pickle\n",
    "import random\n",
    "from multiprocessing import Pool\n",
    "from bayesian_reranker import batch_bayesian_optimization as bbo\n",
    "from bayesian_reranker.prompt_library import wiki_demo as wd"
   ]
  },
  {
   "cell_type": "markdown",
   "id": "d6231fc8-47db-4300-802b-76c526dc4181",
   "metadata": {
    "execution": {
     "iopub.execute_input": "2025-10-06T22:43:50.173437Z",
     "iopub.status.busy": "2025-10-06T22:43:50.173006Z",
     "iopub.status.idle": "2025-10-06T22:43:50.176517Z",
     "shell.execute_reply": "2025-10-06T22:43:50.175553Z",
     "shell.execute_reply.started": "2025-10-06T22:43:50.173414Z"
    }
   },
   "source": [
    "## Miniwiki Corpus"
   ]
  },
  {
   "cell_type": "code",
   "execution_count": 12,
   "id": "c2f13b6b-7185-4139-b41f-c4d37b617889",
   "metadata": {},
   "outputs": [],
   "source": [
    "df = pd.read_csv('mini_wiki.csv')"
   ]
  },
  {
   "cell_type": "code",
   "execution_count": 13,
   "id": "b8f4f552-e5c7-4d70-8984-c38190f6b40b",
   "metadata": {},
   "outputs": [],
   "source": [
    "collection_name = 'query'\n",
    "chroma_client = chromadb.PersistentClient(path=\"mini_wiki\")\n",
    "if collection_name in [c.name for c in chroma_client.list_collections()]:\n",
    "    collection = chroma_client.get_collection(name=collection_name)\n",
    "else:\n",
    "    collection = chroma_client.create_collection(name=collection_name)\n",
    "    collection.add(\n",
    "        ids=[str(x) for x in df['id']],\n",
    "        documents = df['passage'].to_list()\n",
    "    )"
   ]
  },
  {
   "cell_type": "markdown",
   "id": "f626d104-1220-4f61-acd8-01b625f86163",
   "metadata": {},
   "source": [
    "### Convert question to search queries suitable for a vector db"
   ]
  },
  {
   "cell_type": "markdown",
   "id": "3a0166ee-6e9e-410c-98c0-24e44a7f59be",
   "metadata": {
    "execution": {
     "iopub.execute_input": "2025-10-06T22:47:16.805110Z",
     "iopub.status.busy": "2025-10-06T22:47:16.804854Z",
     "iopub.status.idle": "2025-10-06T22:47:16.808421Z",
     "shell.execute_reply": "2025-10-06T22:47:16.807858Z",
     "shell.execute_reply.started": "2025-10-06T22:47:16.805092Z"
    }
   },
   "source": [
    "Read the passages and come up with a question"
   ]
  },
  {
   "cell_type": "code",
   "execution_count": 14,
   "id": "9d11e62f-9de0-4a0e-a190-a86b982644eb",
   "metadata": {
    "execution": {
     "iopub.execute_input": "2025-10-06T22:50:31.318110Z",
     "iopub.status.busy": "2025-10-06T22:50:31.317813Z",
     "iopub.status.idle": "2025-10-06T22:50:31.321581Z",
     "shell.execute_reply": "2025-10-06T22:50:31.320756Z",
     "shell.execute_reply.started": "2025-10-06T22:50:31.318087Z"
    }
   },
   "outputs": [],
   "source": [
    "question = \"What do wolves usually eat?\"\n",
    "question = \"Tell me about Michael Faraday's personal life and career. Where was he born? Did he marry? Did he have kids?\"\n",
    "question = 'Compare and contracts economic conditions in Egypt with other countries in that area in general'"
   ]
  },
  {
   "cell_type": "markdown",
   "id": "9b9d02ae-589e-4882-abd7-253f7fe2411a",
   "metadata": {},
   "source": [
    "1. It's good to improve the query to ask for more details. It makes it easier to determine relevance.\n",
    "2. Come up with search terms."
   ]
  },
  {
   "cell_type": "code",
   "execution_count": null,
   "id": "5baa7d76-f746-482d-bafd-663e2e15f003",
   "metadata": {},
   "outputs": [],
   "source": []
  },
  {
   "cell_type": "code",
   "execution_count": 21,
   "id": "abff02f1-9d39-4b9f-85e4-fad936fd15dc",
   "metadata": {},
   "outputs": [
    {
     "name": "stdout",
     "output_type": "stream",
     "text": [
      "\"Provide a detailed comparison of the economic conditions in Egypt with those of other countries in the Middle East and North Africa (MENA) region. Discuss aspects such as GDP, economic growth rates, key industries, unemployment rates, income inequality, inflation, trade balances, and government policies impacting the economy. Highlight similarities and differences, and provide data or examples to support the analysis.\"\n"
     ]
    }
   ],
   "source": [
    "improved_question = bbo.call_gpt({'system': 'You are a filing clerk. Your job is come up wi', \n",
    "                              'user':  wd.improve_query + question})\n",
    "print(improved_question)\n",
    "search_terms = bbo.call_gpt({'system': 'You are a filing clerk. Your job is come up with search terms to help find answers to queries', \n",
    "                              'user': wd.search_term_prompt + improved_question})"
   ]
  },
  {
   "cell_type": "markdown",
   "id": "530e288f-ffe0-4196-940e-5ac48474695b",
   "metadata": {},
   "source": [
    "Search the vector db"
   ]
  },
  {
   "cell_type": "code",
   "execution_count": 22,
   "id": "41c36e1e-6afc-4581-a62d-715dbb33e7e4",
   "metadata": {},
   "outputs": [
    {
     "name": "stderr",
     "output_type": "stream",
     "text": [
      "\u001b[0;93m2025-10-08 08:19:45.254597377 [W:onnxruntime:Default, device_discovery.cc:164 DiscoverDevicesForPlatform] GPU device discovery failed: device_discovery.cc:89 ReadFileContents Failed to open file: \"/sys/class/drm/card0/device/vendor\"\u001b[m\n"
     ]
    }
   ],
   "source": [
    "search_results = collection.query(\n",
    "    query_texts = eval(search_terms),\n",
    "    n_results = 10\n",
    "    )"
   ]
  },
  {
   "cell_type": "markdown",
   "id": "14b5879b-2d59-419f-a92b-92affa176d7c",
   "metadata": {},
   "source": [
    "Pairs of texts for cross hop reasoning"
   ]
  },
  {
   "cell_type": "code",
   "execution_count": 23,
   "id": "b6f7becd-1255-4c22-9919-b746179b86f0",
   "metadata": {},
   "outputs": [
    {
     "name": "stdout",
     "output_type": "stream",
     "text": [
      "Number of possible pairs of selctions 406\n"
     ]
    }
   ],
   "source": [
    "S = {}\n",
    "for i, d in zip(search_results['ids'], search_results['documents']):\n",
    "    for x, y in zip(i, d):\n",
    "        S[x] = y\n",
    "n = len(S.keys())\n",
    "print(\"Number of possible pairs of selctions\", round((n**2-n)/2))\n",
    "\n",
    "J = {}\n",
    "ct = 0\n",
    "K = S.keys()\n",
    "for i, p in enumerate(K):\n",
    "    for j, q in enumerate(K):\n",
    "        if j > i:\n",
    "            J[f'{p}_{q}'] = f\"page {p}:\\n\" + S[p] + f\"\\n\\npage {q}:\\n\" + S[q]\n",
    "            ct +=1\n"
   ]
  },
  {
   "cell_type": "markdown",
   "id": "a702e705-6b4d-4f39-b1a4-1c13a0ad455a",
   "metadata": {},
   "source": [
    "## Bayesian Optimization"
   ]
  },
  {
   "cell_type": "markdown",
   "id": "9a5be56d-fc2a-441a-9a80-84a99ee72db1",
   "metadata": {},
   "source": [
    "### Initialize"
   ]
  },
  {
   "cell_type": "markdown",
   "id": "5ce57278-e26a-41f6-9a9c-890ae2be4941",
   "metadata": {
    "execution": {
     "iopub.execute_input": "2025-10-06T22:51:45.883543Z",
     "iopub.status.busy": "2025-10-06T22:51:45.883229Z",
     "iopub.status.idle": "2025-10-06T22:51:45.885982Z",
     "shell.execute_reply": "2025-10-06T22:51:45.885432Z",
     "shell.execute_reply.started": "2025-10-06T22:51:45.883520Z"
    }
   },
   "source": [
    "1. Generate Embeddings for possible \"few shots\" or \"augmentations\" - passages, and pairs of passages"
   ]
  },
  {
   "cell_type": "code",
   "execution_count": 25,
   "id": "22959cca-2df0-404b-bd96-4a23d8fc50c5",
   "metadata": {},
   "outputs": [
    {
     "name": "stdout",
     "output_type": "stream",
     "text": [
      "{'prompt_tokens': 3400, 'completion_tokens': 0, 'total_tokens': 3400}\n",
      "{'prompt_tokens': 12149, 'completion_tokens': 0, 'total_tokens': 12149}\n",
      "50\n",
      "{'prompt_tokens': 9301, 'completion_tokens': 0, 'total_tokens': 9301}\n",
      "100\n",
      "{'prompt_tokens': 10957, 'completion_tokens': 0, 'total_tokens': 10957}\n",
      "150\n",
      "{'prompt_tokens': 11271, 'completion_tokens': 0, 'total_tokens': 11271}\n",
      "200\n",
      "{'prompt_tokens': 13271, 'completion_tokens': 0, 'total_tokens': 13271}\n",
      "250\n",
      "{'prompt_tokens': 18544, 'completion_tokens': 0, 'total_tokens': 18544}\n",
      "300\n",
      "{'prompt_tokens': 17695, 'completion_tokens': 0, 'total_tokens': 17695}\n",
      "350\n",
      "{'prompt_tokens': 5895, 'completion_tokens': 0, 'total_tokens': 5895}\n",
      "400\n",
      "{'prompt_tokens': 1109, 'completion_tokens': 0, 'total_tokens': 1109}\n",
      "406\n"
     ]
    }
   ],
   "source": [
    "singles = bbo.get_embedding([S[k] for k in K])\n",
    "E = []\n",
    "for e in more_itertools.batched([J[k] for k in J.keys()], 50):\n",
    "    E += bbo.get_embedding(e)\n",
    "    print(len(E))\n",
    " "
   ]
  },
  {
   "cell_type": "markdown",
   "id": "fd614e1a-0554-44b2-8196-d18bda6faec3",
   "metadata": {
    "execution": {
     "iopub.execute_input": "2025-10-06T22:53:40.565843Z",
     "iopub.status.busy": "2025-10-06T22:53:40.565574Z",
     "iopub.status.idle": "2025-10-06T22:53:40.572941Z",
     "shell.execute_reply": "2025-10-06T22:53:40.571947Z",
     "shell.execute_reply.started": "2025-10-06T22:53:40.565824Z"
    }
   },
   "source": [
    "2. Save just in case"
   ]
  },
  {
   "cell_type": "code",
   "execution_count": 26,
   "id": "2f7dbb67-3b82-4d8d-91a6-f18185a8e248",
   "metadata": {},
   "outputs": [],
   "source": [
    "with open('/tmp/query.mbd', 'wb') as f:\n",
    "    pickle.dump(E, f)"
   ]
  },
  {
   "cell_type": "markdown",
   "id": "28f9bef4-3202-4977-9e3f-6418a9403090",
   "metadata": {},
   "source": [
    "3. Combine all embeddings into a single dictionary"
   ]
  },
  {
   "cell_type": "code",
   "execution_count": 27,
   "id": "c71e61fd-3ce4-4810-bf11-cc4eaafedf5b",
   "metadata": {},
   "outputs": [],
   "source": [
    "combined_embeddings = {}\n",
    "combined_text = {}\n",
    "for k, s in zip(S.keys(), singles):\n",
    "    combined_embeddings[k] = s\n",
    "    combined_text[k] = S[k]\n",
    "pair_embeddings = {}\n",
    "for k, s in zip(J.keys(),  E):\n",
    "    combined_embeddings[k] = s\n",
    "    combined_text[k] = J[k]\n"
   ]
  },
  {
   "cell_type": "markdown",
   "id": "ed78a0b9-dda9-4e9b-8afc-31f9dc64a735",
   "metadata": {
    "execution": {
     "iopub.execute_input": "2025-10-06T21:38:26.684829Z",
     "iopub.status.busy": "2025-10-06T21:38:26.684561Z",
     "iopub.status.idle": "2025-10-06T21:38:26.687488Z",
     "shell.execute_reply": "2025-10-06T21:38:26.687002Z",
     "shell.execute_reply.started": "2025-10-06T21:38:26.684809Z"
    }
   },
   "source": [
    "5. Start with a random sample"
   ]
  },
  {
   "cell_type": "code",
   "execution_count": 28,
   "id": "20f7e4f1-3911-4d78-828b-3fa9b932f52c",
   "metadata": {
    "scrolled": true
   },
   "outputs": [],
   "source": [
    "initial_sample = random.sample([s for s in combined_text.keys()], 10)\n",
    "answer = [bbo.call_gpt({'system': \"You are a librarian. Your job is to determine if a reference is relevant to a query\",\n",
    "                          'user': wd.relevance_prompt.format(improved_question, combined_text[s])}) for s in initial_sample]\n",
    "\n",
    "scored_answers = {}\n",
    "Q = [bbo.x_relevance(a) for a in answer]\n",
    "for k, q in zip(initial_sample, Q):\n",
    "    if q > 0:\n",
    "        scored_answers[k] = q"
   ]
  },
  {
   "cell_type": "markdown",
   "id": "d407217d-21eb-433f-b20e-f012aa8996e8",
   "metadata": {
    "execution": {
     "iopub.execute_input": "2025-10-06T22:56:17.151471Z",
     "iopub.status.busy": "2025-10-06T22:56:17.151225Z",
     "iopub.status.idle": "2025-10-06T22:56:17.175316Z",
     "shell.execute_reply": "2025-10-06T22:56:17.174657Z",
     "shell.execute_reply.started": "2025-10-06T22:56:17.151430Z"
    }
   },
   "source": [
    "### Calculate Batch Expected Improvement"
   ]
  },
  {
   "cell_type": "markdown",
   "id": "ec74d482-afd0-46a8-8fdc-73ac74b3f1bb",
   "metadata": {},
   "source": [
    "1.  Get best batch for next iteration"
   ]
  },
  {
   "cell_type": "code",
   "execution_count": 29,
   "id": "c8aa9de7-f94c-4385-a872-d889657bbb92",
   "metadata": {},
   "outputs": [
    {
     "name": "stdout",
     "output_type": "stream",
     "text": [
      "-1000 0.33\n",
      "0.33 0.5\n",
      "0.5 0.65\n"
     ]
    }
   ],
   "source": [
    "B = bbo.best_batch_finder(400, 4)\n",
    "x2id, unscored_embeddings = B.fit(scored_answers, combined_embeddings)\n",
    "B.create_batches(unscored_embeddings)\n",
    "best_idx = B.get_best_batch()\n"
   ]
  },
  {
   "cell_type": "markdown",
   "id": "02aac486-edaa-45bc-9f69-260841dfe3e4",
   "metadata": {},
   "source": [
    "Take a look at text in our initial sample"
   ]
  },
  {
   "cell_type": "code",
   "execution_count": 30,
   "id": "bd10eaa1-7bf8-4327-a047-0720e5d24b04",
   "metadata": {
    "scrolled": true
   },
   "outputs": [
    {
     "name": "stdout",
     "output_type": "stream",
     "text": [
      "Egypt is one of the most populous countries in Africa. The great majority of its estimated 78 million people (2007) live near the banks of the Nile River in an area of about   where the only arable ag\n",
      "---\n",
      "page 901:\n",
      "Egypt has a developed energy market based on coal, oil, natural gas, and hydro power.  Substantial coal deposits are in the north-east Sinai, and are mined at the rate of about   per year.  \n",
      "---\n",
      "page 907:\n",
      "Egypt is the most populated country in the Middle East and the second-most populous on the African continent, with an estimated 78 million people. Almost all the population is concentrated a\n",
      "---\n",
      "page 900:\n",
      "The government has struggled to prepare the economy for the new millennium through economic reform and massive investments in communications and physical infrastructure. Egypt has been recei\n",
      "---\n",
      "page 900:\n",
      "The government has struggled to prepare the economy for the new millennium through economic reform and massive investments in communications and physical infrastructure. Egypt has been recei\n",
      "---\n",
      "page 902:\n",
      "Economic conditions have started to improve considerably after a period of stagnation from the adoption of more liberal economic policies by the government, as well as increased revenues fro\n",
      "---\n",
      "page 949:\n",
      "*  Amnesty International's 2005 Report on Egypt.\n",
      "\n",
      "page 2740:\n",
      "The per capita GDP in 2006 was US$29,474.    As of September 2007, the unemployment rate is 1.7 percent, which is the lowest in a\n",
      "---\n",
      "page 3117:\n",
      "After a series of privatisations and reforms in the late 1990s and early 2000s, government intervention in the Romanian economy is somewhat lower than in other European economies.  Index of\n",
      "---\n",
      "page 55:\n",
      "A recent report compiled and published by the National Statistics Institute      (Instituto Nacional de Estadistica) of Uruguay used 2 indicators to estimate the number of people living in po\n",
      "---\n",
      "page 903:\n",
      "FDI (Foreign Direct Investment) into Egypt has increased considerably in the past few years due to the recent economic liberalization measures taken by minister of investment Mahmoud Mohiedd\n",
      "---\n"
     ]
    }
   ],
   "source": [
    "for x in initial_sample:\n",
    "    print(combined_text[x][:200])\n",
    "    print('---')\n"
   ]
  },
  {
   "cell_type": "markdown",
   "id": "092c9334-ac48-4900-b8ad-ca8c4e4a41cd",
   "metadata": {},
   "source": [
    "Take a look at the *best* text after the first random sample"
   ]
  },
  {
   "cell_type": "code",
   "execution_count": 31,
   "id": "da630185-96a9-400d-845c-d6229f6efcb3",
   "metadata": {
    "scrolled": true
   },
   "outputs": [
    {
     "name": "stdout",
     "output_type": "stream",
     "text": [
      "page 902:\n",
      "Economic conditions have started to improve considerably after a period of stagnation from the adoption of more liberal economic policies by the government, as well as increased revenues fro\n",
      "---\n",
      "page 890:\n",
      "Egypt's foreign policy operates along moderate lines. Factors such as population size, historical events, military strength, diplomatic expertise and a strategic geographical position give E\n",
      "---\n",
      "page 905:\n",
      "The best known examples of Egyptian companies that have expanded regionally and globally are the Orascom Group and Raya. The IT sector has been expanding rapidly in the past few years, with \n",
      "---\n",
      "page 808:\n",
      "Indonesia's estimated Gross Domestic Product (GDP) for 2007 is US$408 billion (US$1,038 bn PPP).    In 2007, estimated nominal per capita GDP is US$1,812, and per capita GDP PPP was US$4,616\n",
      "---\n"
     ]
    }
   ],
   "source": [
    "for x in B.batch_idx[best_idx]:\n",
    "    print(combined_text[x2id[x]][:200])\n",
    "    print('---')"
   ]
  },
  {
   "cell_type": "markdown",
   "id": "33fea0ea-f22e-48e5-8ca3-cfb0133aa6dc",
   "metadata": {},
   "source": [
    "2. Prepare for multiprocessing"
   ]
  },
  {
   "cell_type": "code",
   "execution_count": 33,
   "id": "373b9bd4-b62e-4799-a77e-ba5fea7be7c3",
   "metadata": {},
   "outputs": [],
   "source": [
    "parameters = [{'system': \"You are a librarian. Your job is to determine if a reference is relevant to a query\",\n",
    "                          'user': wd.relevance_prompt.format(improved_question, combined_text[x2id[s]])} for s in B.batch_idx[best_idx]]"
   ]
  },
  {
   "cell_type": "markdown",
   "id": "54158230-ac6d-4bf6-af1b-5d5a519a507c",
   "metadata": {},
   "source": [
    "3. Evaluate Queries in parallel"
   ]
  },
  {
   "cell_type": "code",
   "execution_count": 34,
   "id": "b0e10efa-3d50-4e10-bec0-4ab44cebe7b8",
   "metadata": {},
   "outputs": [
    {
     "name": "stderr",
     "output_type": "stream",
     "text": [
      "huggingface/tokenizers: The current process just got forked, after parallelism has already been used. Disabling parallelism to avoid deadlocks...\n",
      "To disable this warning, you can either:\n",
      "\t- Avoid using `tokenizers` before the fork if possible\n",
      "\t- Explicitly set the environment variable TOKENIZERS_PARALLELISM=(true | false)\n",
      "huggingface/tokenizers: The current process just got forked, after parallelism has already been used. Disabling parallelism to avoid deadlocks...\n",
      "To disable this warning, you can either:\n",
      "\t- Avoid using `tokenizers` before the fork if possible\n",
      "\t- Explicitly set the environment variable TOKENIZERS_PARALLELISM=(true | false)\n",
      "huggingface/tokenizers: The current process just got forked, after parallelism has already been used. Disabling parallelism to avoid deadlocks...\n",
      "To disable this warning, you can either:\n",
      "\t- Avoid using `tokenizers` before the fork if possible\n",
      "\t- Explicitly set the environment variable TOKENIZERS_PARALLELISM=(true | false)\n",
      "huggingface/tokenizers: The current process just got forked, after parallelism has already been used. Disabling parallelism to avoid deadlocks...\n",
      "To disable this warning, you can either:\n",
      "\t- Avoid using `tokenizers` before the fork if possible\n",
      "\t- Explicitly set the environment variable TOKENIZERS_PARALLELISM=(true | false)\n"
     ]
    }
   ],
   "source": [
    "p = Pool(len(parameters))\n",
    "xwer = p.map(bbo.call_gpt, parameters)  \n",
    "p.close()\n",
    "\n",
    "for k, q in zip(B.batch_idx[best_idx], [bbo.x_relevance(a) for a in xwer]):\n",
    "    if q > 0:\n",
    "        scored_answers[x2id[k]] = q\n"
   ]
  },
  {
   "cell_type": "markdown",
   "id": "184da428-87eb-4985-b005-8cca78c82f04",
   "metadata": {},
   "source": [
    "4. Extract best passages\n",
    "- including pairs\n",
    "- remove duplicates"
   ]
  },
  {
   "cell_type": "code",
   "execution_count": 35,
   "id": "5bf07f00-d026-4117-aaf0-8a7786e47b91",
   "metadata": {},
   "outputs": [],
   "source": [
    "df = pd.DataFrame({'id': [s for s in scored_answers.keys()],\n",
    "                   'score': [scored_answers[s] for s in scored_answers.keys()]})\n",
    "relevant_ids = []\n",
    "for x in df.sort_values('score', ascending = False).head(3)['id']:\n",
    "    relevant_ids += x.split('_')"
   ]
  },
  {
   "cell_type": "markdown",
   "id": "448023e9-4195-4301-b493-d1a145e11015",
   "metadata": {},
   "source": [
    "What the question looks like with the new references"
   ]
  },
  {
   "cell_type": "code",
   "execution_count": 37,
   "id": "707201e8-fd8d-471f-b25f-9f7a193e492c",
   "metadata": {
    "scrolled": true
   },
   "outputs": [
    {
     "name": "stdout",
     "output_type": "stream",
     "text": [
      "I'm going to give you a question with some references. Try to answer the question. If you use the references, indicate that you have used them. \n",
      "If you cannot answer the question from the references of if the references are only partially helpful, indicate that as well. Do not speculate beyond what is contained in the references.\n",
      "\n",
      "#### QUESTION ###\n",
      "\"Provide a detailed comparison of the economic conditions in Egypt with those of other countries in the Middle East and North Africa (MENA) region. Discuss aspects such as GDP, economic growth rates, key industries, unemployment rates, income inequality, inflation, trade balances, and government policies impacting the economy. Highlight similarities and differences, and provide data or examples to support the analysis.\"\n",
      "\n",
      "### REFERENCES ###\n",
      "page 902:\n",
      "Economic conditions have started to improve considerably after a period of stagnation from the adoption of more liberal economic policies by the government, as well as increased revenues from tourism and a booming stock market. In its annual report, the IMF has rated Egypt as one of the top countries in the world undertaking economic reforms. Some major economic reforms taken by the new government since 2003 include a dramatic slashing of customs and tariffs. A new taxation law implemented in 2005 decreased corporate taxes from 40% to the current 20%, resulting in a stated 100% increase in tax revenue by the year 2006.\n",
      "\n",
      "page 843:\n",
      "The Nile River in Egypt\n",
      "\n",
      "page 57:\n",
      "*Poverty line: income of the family is not enough for food consumption, clothing, health and transport.\n",
      "\n",
      "page 900:\n",
      "The government has struggled to prepare the economy for the new millennium through economic reform and massive investments in communications and physical infrastructure. Egypt has been receiving  U.S. foreign aid (since 1979, an average of $2.2 billion per year) and is the third-largest recipient of such funds from the United States following the Iraq war. Its main revenues however come from tourism as well as traffic that goes through the Suez Canal.\n",
      "\n",
      "page 904:\n",
      "Although one of the main obstacles still facing the Egyptian economy is the trickle down of the wealth to the average population, many Egyptians criticize their government for higher prices of basic goods while their standards of living or purchasing power remains relatively stagnant. Often corruption is blamed by Egyptians as the main impediment to feeling the benefits of the newly attained wealth. Major reconstruction of the country's infrastructure is promised by the government, with a large portion of the sum paid for the newly acquired 3rd mobile license ($3 billion) by Etisalat. This is slated to be pumped into the country's railroad system, in response to public outrage against the government for disasters in 2006 that claimed more than 100 lives.\n",
      "\n"
     ]
    }
   ],
   "source": [
    "references = \"\\n\\n\".join([f\"page {i}:\\n\" + combined_text[i] for i in set(relevant_ids)])\n",
    "print(wd.rag.format(improved_question, references))"
   ]
  },
  {
   "cell_type": "markdown",
   "id": "22e12d2c-566f-4058-a876-4879bc654e3f",
   "metadata": {},
   "source": [
    "5. Evaluate answer with new additions *so far*"
   ]
  },
  {
   "cell_type": "code",
   "execution_count": 38,
   "id": "e2fc4ff6-9ce7-499a-9448-855e575b50c9",
   "metadata": {},
   "outputs": [],
   "source": [
    "final_answer = bbo.call_gpt({'system': 'You are a helpful assistaint.',\n",
    "                              'user': wd.rag.format(improved_question, references)})\n"
   ]
  },
  {
   "cell_type": "code",
   "execution_count": 39,
   "id": "5e4fd13c-18ff-4426-8eea-672ec217e461",
   "metadata": {
    "scrolled": true
   },
   "outputs": [
    {
     "name": "stdout",
     "output_type": "stream",
     "text": [
      "The information in the provided references is insufficient to deliver a comprehensive comparison of Egypt's economic conditions with other countries in the Middle East and North Africa (MENA) region. While the references offer some insights into Egypt’s economy, they lack data or context about other MENA countries, thus making it impossible to draw a detailed or balanced comparison.\n",
      "\n",
      "### Analysis Based on the Provided References:\n",
      "1. **Economic Growth and Reform in Egypt**:\n",
      "   - According to page 902, Egypt has implemented significant economic reforms since the early 2000s, such as reducing customs/tariffs and cutting corporate taxes to encourage investment. By 2006, these reforms reportedly doubled tax revenue, and Egypt was recognized by the IMF as a top reformer globally.\n",
      "   - Other stimulus factors include revenue from tourism and the Suez Canal (page 900), alongside foreign aid from the United States, which averages $2.2 billion annually.\n",
      "\n",
      "2. **Challenges in Wealth Distribution and Corruption**:\n",
      "   - Page 904 highlights that the benefits of economic growth in Egypt are not widely felt across the population. Issues include stagnant purchasing power, rising prices for basic goods, and corruption, which citizens cite as a barrier to equitable wealth distribution. \n",
      "\n",
      "3. **Public Investment and Infrastructure**:\n",
      "   - The government has invested heavily in infrastructure, such as communication networks and railroads (page 900 and page 904). However, infrastructure failures such as the 2006 railroad disaster have caused public discontent.\n",
      "\n",
      "4. **Key Economic Sectors for Egypt**:\n",
      "   - Egypt's economy relies on tourism, the Suez Canal, and foreign aid, with tourism being a critical revenue stream (page 900).\n",
      "\n",
      "### Missing Information for Comprehensive Comparison:\n",
      "- The references do not include data on GDP, economic growth rates, unemployment rates, inflation, or income inequality for Egypt.\n",
      "- There is no comparable data about other MENA countries’ economic conditions, such as their key industries, trade balances, or government policies.\n",
      "- No reference provides specific numbers or trends over time for Egypt or any MENA counterparts.\n",
      "\n",
      "### Conclusion:\n",
      "The references are **only partially helpful** in understanding Egypt's economic conditions. While they give an overview of economic reforms, public dissatisfaction, and key revenue streams, they lack the comprehensive data needed to compare Egypt to other MENA countries. Without additional data or references, no valid comparison can be made.\n"
     ]
    }
   ],
   "source": [
    "print(final_answer)"
   ]
  },
  {
   "cell_type": "code",
   "execution_count": null,
   "id": "9510cf8a-385d-4238-9048-2cb7a39d28aa",
   "metadata": {},
   "outputs": [],
   "source": []
  }
 ],
 "metadata": {
  "kernelspec": {
   "display_name": "Python 3 (ipykernel)",
   "language": "python",
   "name": "python3"
  },
  "language_info": {
   "codemirror_mode": {
    "name": "ipython",
    "version": 3
   },
   "file_extension": ".py",
   "mimetype": "text/x-python",
   "name": "python",
   "nbconvert_exporter": "python",
   "pygments_lexer": "ipython3",
   "version": "3.11.11"
  }
 },
 "nbformat": 4,
 "nbformat_minor": 5
}
