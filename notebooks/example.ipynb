{
 "cells": [
  {
   "cell_type": "markdown",
   "id": "f1f2de4b-b4aa-4f20-bedb-e930369a8599",
   "metadata": {
    "execution": {
     "iopub.execute_input": "2025-10-06T15:25:58.879492Z",
     "iopub.status.busy": "2025-10-06T15:25:58.879164Z",
     "iopub.status.idle": "2025-10-06T15:25:59.712901Z",
     "shell.execute_reply": "2025-10-06T15:25:59.711925Z",
     "shell.execute_reply.started": "2025-10-06T15:25:58.879470Z"
    }
   },
   "source": [
    "# Bayesian Reranker"
   ]
  },
  {
   "cell_type": "code",
   "execution_count": null,
   "id": "b64445c2-7743-412a-9106-7f0040c30d7a",
   "metadata": {},
   "outputs": [],
   "source": [
    "pip install -r requirements.txt"
   ]
  },
  {
   "cell_type": "code",
   "execution_count": 25,
   "id": "0694a2b1-ad07-434a-8b00-2f225f34428e",
   "metadata": {
    "execution": {
     "iopub.execute_input": "2025-10-06T22:53:50.585732Z",
     "iopub.status.busy": "2025-10-06T22:53:50.585458Z",
     "iopub.status.idle": "2025-10-06T22:53:50.589433Z",
     "shell.execute_reply": "2025-10-06T22:53:50.588532Z",
     "shell.execute_reply.started": "2025-10-06T22:53:50.585710Z"
    }
   },
   "outputs": [],
   "source": [
    "import pandas as pd\n",
    "import boto3\n",
    "import openai\n",
    "from azure.core.credentials import AzureKeyCredential\n",
    "import more_itertools\n",
    "import chromadb\n",
    "import pickle\n",
    "import random\n",
    "from multiprocessing import Pool\n",
    "from bayesian_reranker import batch_bayesian_optimization as bbo\n"
   ]
  },
  {
   "cell_type": "markdown",
   "id": "d6231fc8-47db-4300-802b-76c526dc4181",
   "metadata": {
    "execution": {
     "iopub.execute_input": "2025-10-06T22:43:50.173437Z",
     "iopub.status.busy": "2025-10-06T22:43:50.173006Z",
     "iopub.status.idle": "2025-10-06T22:43:50.176517Z",
     "shell.execute_reply": "2025-10-06T22:43:50.175553Z",
     "shell.execute_reply.started": "2025-10-06T22:43:50.173414Z"
    }
   },
   "source": [
    "## Miniwiki Corpus"
   ]
  },
  {
   "cell_type": "code",
   "execution_count": 4,
   "id": "c2f13b6b-7185-4139-b41f-c4d37b617889",
   "metadata": {
    "execution": {
     "iopub.execute_input": "2025-10-06T22:43:36.945005Z",
     "iopub.status.busy": "2025-10-06T22:43:36.944753Z",
     "iopub.status.idle": "2025-10-06T22:43:37.332516Z",
     "shell.execute_reply": "2025-10-06T22:43:37.331852Z",
     "shell.execute_reply.started": "2025-10-06T22:43:36.944986Z"
    }
   },
   "outputs": [],
   "source": [
    "bucket = 'sagemaker-us-east-2-344400919253'\n",
    "path = 'batch_jobs/promptimizer/rag/2025-09-24'\n",
    "df = pd.read_csv(f's3://{bucket}/{path}/output/0AIiuigo92kaCmY7/demonstrations.csv')"
   ]
  },
  {
   "cell_type": "code",
   "execution_count": 6,
   "id": "b8f4f552-e5c7-4d70-8984-c38190f6b40b",
   "metadata": {
    "execution": {
     "iopub.execute_input": "2025-10-06T22:45:07.944088Z",
     "iopub.status.busy": "2025-10-06T22:45:07.943825Z",
     "iopub.status.idle": "2025-10-06T22:45:08.543215Z",
     "shell.execute_reply": "2025-10-06T22:45:08.542644Z",
     "shell.execute_reply.started": "2025-10-06T22:45:07.944067Z"
    }
   },
   "outputs": [],
   "source": [
    "collection_name = 'query'\n",
    "chroma_client = chromadb.PersistentClient(path=\"mini_wiki\")\n",
    "if collection_name in [c.name for c in chroma_client.list_collections()]:\n",
    "    collection = chroma_client.get_collection(name=collection_name)\n",
    "else:\n",
    "    collection = chroma_client.create_collection(name=collection_name)\n",
    "    collection.add(\n",
    "        ids=[str(x) for x in df['id']],\n",
    "        documents = df['passage'].to_list()\n",
    "    )"
   ]
  },
  {
   "cell_type": "markdown",
   "id": "f626d104-1220-4f61-acd8-01b625f86163",
   "metadata": {},
   "source": [
    "### Convert question to search queries suitable for a vector db"
   ]
  },
  {
   "cell_type": "code",
   "execution_count": 7,
   "id": "fc16f5b2-be60-43d2-9cc4-0798271d1455",
   "metadata": {
    "execution": {
     "iopub.execute_input": "2025-10-06T22:47:11.064599Z",
     "iopub.status.busy": "2025-10-06T22:47:11.064328Z",
     "iopub.status.idle": "2025-10-06T22:47:11.122108Z",
     "shell.execute_reply": "2025-10-06T22:47:11.121502Z",
     "shell.execute_reply.started": "2025-10-06T22:47:11.064580Z"
    }
   },
   "outputs": [],
   "source": [
    "from bayesian_reranker.prompt_library import wiki_demo as wd"
   ]
  },
  {
   "cell_type": "markdown",
   "id": "3a0166ee-6e9e-410c-98c0-24e44a7f59be",
   "metadata": {
    "execution": {
     "iopub.execute_input": "2025-10-06T22:47:16.805110Z",
     "iopub.status.busy": "2025-10-06T22:47:16.804854Z",
     "iopub.status.idle": "2025-10-06T22:47:16.808421Z",
     "shell.execute_reply": "2025-10-06T22:47:16.807858Z",
     "shell.execute_reply.started": "2025-10-06T22:47:16.805092Z"
    }
   },
   "source": [
    "Read the passages and come up with a question"
   ]
  },
  {
   "cell_type": "code",
   "execution_count": 14,
   "id": "9d11e62f-9de0-4a0e-a190-a86b982644eb",
   "metadata": {
    "execution": {
     "iopub.execute_input": "2025-10-06T22:50:31.318110Z",
     "iopub.status.busy": "2025-10-06T22:50:31.317813Z",
     "iopub.status.idle": "2025-10-06T22:50:31.321581Z",
     "shell.execute_reply": "2025-10-06T22:50:31.320756Z",
     "shell.execute_reply.started": "2025-10-06T22:50:31.318087Z"
    }
   },
   "outputs": [],
   "source": [
    "\n",
    "question = \"What do wolves usually eat?\"\n",
    "question = \"Tell me about Michael Faraday's personal life and career. Where was he born? Did he marry? Did he have kids?\""
   ]
  },
  {
   "cell_type": "markdown",
   "id": "9b9d02ae-589e-4882-abd7-253f7fe2411a",
   "metadata": {},
   "source": [
    "1. It's good to improve the query to ask for more details. It makes it easier to determine relevance.\n",
    "2. Come up with search terms."
   ]
  },
  {
   "cell_type": "code",
   "execution_count": 15,
   "id": "abff02f1-9d39-4b9f-85e4-fad936fd15dc",
   "metadata": {
    "execution": {
     "iopub.execute_input": "2025-10-06T22:50:32.954562Z",
     "iopub.status.busy": "2025-10-06T22:50:32.954303Z",
     "iopub.status.idle": "2025-10-06T22:50:35.853772Z",
     "shell.execute_reply": "2025-10-06T22:50:35.853164Z",
     "shell.execute_reply.started": "2025-10-06T22:50:32.954543Z"
    }
   },
   "outputs": [
    {
     "name": "stdout",
     "output_type": "stream",
     "text": [
      "Provide an in-depth overview of Michael Faraday's personal life and professional achievements. Include details about his birthplace, early life, educational background, and key moments in his career as a scientist. Additionally, cover aspects of his personal life, such as whether he was married, details about his spouse, whether he had children, and insights into his personality, interests, or hobbies beyond his scientific work. Aim for a balanced narrative that highlights both his contributions to science and his personal experiences.\n"
     ]
    }
   ],
   "source": [
    "improved_question = bbo.call_gpt({'system': 'You are a filing clerk. Your job is come up wi', \n",
    "                              'user':  wd.improve_query + question})\n",
    "print(improved_question)\n",
    "search_terms = bbo.call_gpt({'system': 'You are a filing clerk. Your job is come up with search terms to help find answers to queries', \n",
    "                              'user': wd.search_term_prompt + improved_question})"
   ]
  },
  {
   "cell_type": "markdown",
   "id": "530e288f-ffe0-4196-940e-5ac48474695b",
   "metadata": {},
   "source": [
    "Search the vector db"
   ]
  },
  {
   "cell_type": "code",
   "execution_count": 16,
   "id": "41c36e1e-6afc-4581-a62d-715dbb33e7e4",
   "metadata": {
    "execution": {
     "iopub.execute_input": "2025-10-06T22:50:36.212769Z",
     "iopub.status.busy": "2025-10-06T22:50:36.212490Z",
     "iopub.status.idle": "2025-10-06T22:50:37.521428Z",
     "shell.execute_reply": "2025-10-06T22:50:37.520855Z",
     "shell.execute_reply.started": "2025-10-06T22:50:36.212749Z"
    }
   },
   "outputs": [],
   "source": [
    "search_results = collection.query(\n",
    "    query_texts = eval(search_terms),\n",
    "    n_results = 10\n",
    "    )"
   ]
  },
  {
   "cell_type": "markdown",
   "id": "14b5879b-2d59-419f-a92b-92affa176d7c",
   "metadata": {},
   "source": [
    "Pairs of texts for cross hop reasoning"
   ]
  },
  {
   "cell_type": "code",
   "execution_count": 19,
   "id": "b6f7becd-1255-4c22-9919-b746179b86f0",
   "metadata": {
    "execution": {
     "iopub.execute_input": "2025-10-06T22:51:23.221147Z",
     "iopub.status.busy": "2025-10-06T22:51:23.220887Z",
     "iopub.status.idle": "2025-10-06T22:51:23.225414Z",
     "shell.execute_reply": "2025-10-06T22:51:23.224951Z",
     "shell.execute_reply.started": "2025-10-06T22:51:23.221126Z"
    }
   },
   "outputs": [
    {
     "name": "stdout",
     "output_type": "stream",
     "text": [
      "Number of possible pairs of selctions 105\n"
     ]
    }
   ],
   "source": [
    "S = {}\n",
    "for i, d in zip(search_results['ids'], search_results['documents']):\n",
    "    for x, y in zip(i, d):\n",
    "        S[x] = y\n",
    "n = len(S.keys())\n",
    "print(\"Number of possible pairs of selctions\", round((n**2-n)/2))\n",
    "\n",
    "J = {}\n",
    "ct = 0\n",
    "K = S.keys()\n",
    "for i, p in enumerate(K):\n",
    "    for j, q in enumerate(K):\n",
    "        if j > i:\n",
    "            J[f'{p}_{q}'] = f\"page {p}:\\n\" + S[p] + f\"\\n\\npage {q}:\\n\" + S[q]\n",
    "            ct +=1\n"
   ]
  },
  {
   "cell_type": "code",
   "execution_count": 52,
   "id": "a2be8ecd-dc53-432f-802f-952cfbc88477",
   "metadata": {
    "execution": {
     "iopub.execute_input": "2025-10-06T23:07:30.022768Z",
     "iopub.status.busy": "2025-10-06T23:07:30.022489Z",
     "iopub.status.idle": "2025-10-06T23:07:30.052067Z",
     "shell.execute_reply": "2025-10-06T23:07:30.051304Z",
     "shell.execute_reply.started": "2025-10-06T23:07:30.022747Z"
    }
   },
   "outputs": [
    {
     "data": {
      "text/plain": [
       "<module 'bayesian_reranker.prompt_library.wiki_demo' from '/mnt/custom-file-systems/efs/fs-0efe0723c8fe23def_fsap-009815092600551f0/projects/bayesian_reranker/bayesian_reranker/prompt_library/wiki_demo.py'>"
      ]
     },
     "execution_count": 52,
     "metadata": {},
     "output_type": "execute_result"
    }
   ],
   "source": [
    "from importlib import reload\n",
    "reload(wd)"
   ]
  },
  {
   "cell_type": "markdown",
   "id": "a702e705-6b4d-4f39-b1a4-1c13a0ad455a",
   "metadata": {},
   "source": [
    "## Bayesian Optimization"
   ]
  },
  {
   "cell_type": "markdown",
   "id": "9a5be56d-fc2a-441a-9a80-84a99ee72db1",
   "metadata": {},
   "source": [
    "### Initialize"
   ]
  },
  {
   "cell_type": "markdown",
   "id": "5ce57278-e26a-41f6-9a9c-890ae2be4941",
   "metadata": {
    "execution": {
     "iopub.execute_input": "2025-10-06T22:51:45.883543Z",
     "iopub.status.busy": "2025-10-06T22:51:45.883229Z",
     "iopub.status.idle": "2025-10-06T22:51:45.885982Z",
     "shell.execute_reply": "2025-10-06T22:51:45.885432Z",
     "shell.execute_reply.started": "2025-10-06T22:51:45.883520Z"
    }
   },
   "source": [
    "1. Generate Embeddings for possible \"few shots\" or \"augmentations\""
   ]
  },
  {
   "cell_type": "code",
   "execution_count": 22,
   "id": "22959cca-2df0-404b-bd96-4a23d8fc50c5",
   "metadata": {
    "execution": {
     "iopub.execute_input": "2025-10-06T22:51:58.915940Z",
     "iopub.status.busy": "2025-10-06T22:51:58.915659Z",
     "iopub.status.idle": "2025-10-06T22:52:04.487624Z",
     "shell.execute_reply": "2025-10-06T22:52:04.486938Z",
     "shell.execute_reply.started": "2025-10-06T22:51:58.915918Z"
    }
   },
   "outputs": [
    {
     "name": "stdout",
     "output_type": "stream",
     "text": [
      "{'prompt_tokens': 833, 'completion_tokens': 0, 'total_tokens': 833}\n",
      "{'prompt_tokens': 7096, 'completion_tokens': 0, 'total_tokens': 7096}\n",
      "50\n",
      "{'prompt_tokens': 5368, 'completion_tokens': 0, 'total_tokens': 5368}\n",
      "100\n",
      "{'prompt_tokens': 421, 'completion_tokens': 0, 'total_tokens': 421}\n",
      "105\n"
     ]
    }
   ],
   "source": [
    "singles = bbo.get_embedding([S[k] for k in K])\n",
    "E = []\n",
    "for e in more_itertools.batched([J[k] for k in J.keys()], 50):\n",
    "    E += bbo.get_embedding(e)\n",
    "    print(len(E))\n",
    " "
   ]
  },
  {
   "cell_type": "markdown",
   "id": "fd614e1a-0554-44b2-8196-d18bda6faec3",
   "metadata": {
    "execution": {
     "iopub.execute_input": "2025-10-06T22:53:40.565843Z",
     "iopub.status.busy": "2025-10-06T22:53:40.565574Z",
     "iopub.status.idle": "2025-10-06T22:53:40.572941Z",
     "shell.execute_reply": "2025-10-06T22:53:40.571947Z",
     "shell.execute_reply.started": "2025-10-06T22:53:40.565824Z"
    }
   },
   "source": [
    "2. Save just in case"
   ]
  },
  {
   "cell_type": "code",
   "execution_count": 26,
   "id": "2f7dbb67-3b82-4d8d-91a6-f18185a8e248",
   "metadata": {
    "execution": {
     "iopub.execute_input": "2025-10-06T22:54:01.731665Z",
     "iopub.status.busy": "2025-10-06T22:54:01.731360Z",
     "iopub.status.idle": "2025-10-06T22:54:01.739107Z",
     "shell.execute_reply": "2025-10-06T22:54:01.738447Z",
     "shell.execute_reply.started": "2025-10-06T22:54:01.731644Z"
    }
   },
   "outputs": [],
   "source": [
    "with open('/tmp/query.mbd', 'wb') as f:\n",
    "    pickle.dump(E, f)"
   ]
  },
  {
   "cell_type": "markdown",
   "id": "28f9bef4-3202-4977-9e3f-6418a9403090",
   "metadata": {},
   "source": [
    "3. Combined all embeddings into a single dictionary"
   ]
  },
  {
   "cell_type": "code",
   "execution_count": 27,
   "id": "c71e61fd-3ce4-4810-bf11-cc4eaafedf5b",
   "metadata": {
    "execution": {
     "iopub.execute_input": "2025-10-06T22:54:25.667440Z",
     "iopub.status.busy": "2025-10-06T22:54:25.667144Z",
     "iopub.status.idle": "2025-10-06T22:54:25.671070Z",
     "shell.execute_reply": "2025-10-06T22:54:25.670407Z",
     "shell.execute_reply.started": "2025-10-06T22:54:25.667391Z"
    }
   },
   "outputs": [],
   "source": [
    "combined_embeddings = {}\n",
    "combined_text = {}\n",
    "for k, s in zip(S.keys(), singles):\n",
    "    combined_embeddings[k] = s\n",
    "    combined_text[k] = S[k]\n",
    "pair_embeddings = {}\n",
    "for k, s in zip(J.keys(),  E):\n",
    "    combined_embeddings[k] = s\n",
    "    combined_text[k] = J[k]\n"
   ]
  },
  {
   "cell_type": "markdown",
   "id": "ed78a0b9-dda9-4e9b-8afc-31f9dc64a735",
   "metadata": {
    "execution": {
     "iopub.execute_input": "2025-10-06T21:38:26.684829Z",
     "iopub.status.busy": "2025-10-06T21:38:26.684561Z",
     "iopub.status.idle": "2025-10-06T21:38:26.687488Z",
     "shell.execute_reply": "2025-10-06T21:38:26.687002Z",
     "shell.execute_reply.started": "2025-10-06T21:38:26.684809Z"
    }
   },
   "source": [
    "5. Start with a random sample"
   ]
  },
  {
   "cell_type": "code",
   "execution_count": 33,
   "id": "20f7e4f1-3911-4d78-828b-3fa9b932f52c",
   "metadata": {
    "execution": {
     "iopub.execute_input": "2025-10-06T22:56:32.251636Z",
     "iopub.status.busy": "2025-10-06T22:56:32.251295Z",
     "iopub.status.idle": "2025-10-06T22:56:32.255245Z",
     "shell.execute_reply": "2025-10-06T22:56:32.254675Z",
     "shell.execute_reply.started": "2025-10-06T22:56:32.251613Z"
    },
    "scrolled": true
   },
   "outputs": [],
   "source": [
    "initial_sample = random.sample([s for s in combined_text.keys()], 10)\n",
    "answer = [bbo.call_gpt({'system': \"You are a librarian. Your job is to determine if a reference is relevant to a query\",\n",
    "                          'user': wd.relevance_prompt.format(improved_question, combined_text[s])}) for s in initial_sample]\n",
    "\n",
    "scored_answers = {}\n",
    "Q = [bbo.x_relevance(a) for a in answer]\n",
    "for k, q in zip(initial_sample, Q):\n",
    "    if q > 0:\n",
    "        scored_answers[k] = q"
   ]
  },
  {
   "cell_type": "markdown",
   "id": "d407217d-21eb-433f-b20e-f012aa8996e8",
   "metadata": {
    "execution": {
     "iopub.execute_input": "2025-10-06T22:56:17.151471Z",
     "iopub.status.busy": "2025-10-06T22:56:17.151225Z",
     "iopub.status.idle": "2025-10-06T22:56:17.175316Z",
     "shell.execute_reply": "2025-10-06T22:56:17.174657Z",
     "shell.execute_reply.started": "2025-10-06T22:56:17.151430Z"
    }
   },
   "source": [
    "### Calculate Batch Expected Improvement"
   ]
  },
  {
   "cell_type": "markdown",
   "id": "ec74d482-afd0-46a8-8fdc-73ac74b3f1bb",
   "metadata": {},
   "source": [
    "1.  Get best batch for next iteration"
   ]
  },
  {
   "cell_type": "code",
   "execution_count": 39,
   "id": "c8aa9de7-f94c-4385-a872-d889657bbb92",
   "metadata": {
    "execution": {
     "iopub.execute_input": "2025-10-06T23:02:31.134140Z",
     "iopub.status.busy": "2025-10-06T23:02:31.133880Z",
     "iopub.status.idle": "2025-10-06T23:02:33.841919Z",
     "shell.execute_reply": "2025-10-06T23:02:33.841279Z",
     "shell.execute_reply.started": "2025-10-06T23:02:31.134122Z"
    }
   },
   "outputs": [
    {
     "name": "stdout",
     "output_type": "stream",
     "text": [
      "-1000 0.33\n",
      "0.33 0.65\n"
     ]
    }
   ],
   "source": [
    "B = bbo.best_batch_finder(400, 4)\n",
    "x2id, unscored_embeddings = B.fit(scored_answers, combined_embeddings)\n",
    "B.create_batches(unscored_embeddings)\n",
    "best_idx = B.get_best_batch()\n"
   ]
  },
  {
   "cell_type": "markdown",
   "id": "02aac486-edaa-45bc-9f69-260841dfe3e4",
   "metadata": {},
   "source": [
    "Take a look at text in our initial sample"
   ]
  },
  {
   "cell_type": "code",
   "execution_count": 40,
   "id": "bd10eaa1-7bf8-4327-a047-0720e5d24b04",
   "metadata": {
    "execution": {
     "iopub.execute_input": "2025-10-06T23:02:34.375296Z",
     "iopub.status.busy": "2025-10-06T23:02:34.375038Z",
     "iopub.status.idle": "2025-10-06T23:02:34.378478Z",
     "shell.execute_reply": "2025-10-06T23:02:34.377933Z",
     "shell.execute_reply.started": "2025-10-06T23:02:34.375276Z"
    },
    "scrolled": true
   },
   "outputs": [
    {
     "name": "stdout",
     "output_type": "stream",
     "text": [
      "page 126:\n",
      "Michael Faraday's signature\n",
      "\n",
      "page 116:\n",
      "Michael Faraday's grave at Highgate Cemetery\n",
      "---\n",
      "page 135:\n",
      "* Agassi, Joseph (1971), Faraday as a Natural Philosopher, Chicago: University of Chicago Press.\n",
      "\n",
      "page 132:\n",
      "* Gladstone, J. H. (1872). Michael Faraday, Macmillan.\n",
      "---\n",
      "page 111:\n",
      "Education was another area of service for Faraday. He lectured on the topic in 1854 at the Royal Institution, and in 1862 he appeared before a Public Schools Commission to give his views on \n",
      "---\n",
      "page 74:\n",
      "Michael Faraday, FRS (September 22, 1791 â August 25, 1867) was an English chemist and physicist (or natural philosopher, in the terminology of that time) who contributed to the fields of e\n",
      "---\n",
      "page 80:\n",
      "Michael Faraday was born in Newington Butts, near present-day South London, England. His family was not well off. His father, James, was a member of the Sandemanian sect of Christianity. Jame\n",
      "---\n",
      "page 106:\n",
      "Michael Faraday meets Father Thames, from Punch (July 21, 1855)\n",
      "\n",
      "page 111:\n",
      "Education was another area of service for Faraday. He lectured on the topic in 1854 at the Royal Institution, and i\n",
      "---\n",
      "* \"Experimental Researches in Electricity\" by Michael Faraday Original text with Biographical Introduction by Professor John Tyndall, 1914, Everyman edition.\n",
      "---\n",
      "page 74:\n",
      "Michael Faraday, FRS (September 22, 1791 â August 25, 1867) was an English chemist and physicist (or natural philosopher, in the terminology of that time) who contributed to the fields of e\n",
      "---\n",
      "page 106:\n",
      "Michael Faraday meets Father Thames, from Punch (July 21, 1855)\n",
      "\n",
      "page 108:\n",
      "As a respected scientist in a nation with strong maritime interests, Faraday spent extensive amounts of time on pro\n",
      "---\n",
      "page 134:\n",
      "* Williams, L. Pearce (1971), Faraday: A Biography, Simon and Schuster. \n",
      "\n",
      "page 111:\n",
      "Education was another area of service for Faraday. He lectured on the topic in 1854 at the Royal Instituti\n",
      "---\n"
     ]
    }
   ],
   "source": [
    "for x in initial_sample:\n",
    "    print(combined_text[x][:200])\n",
    "    print('---')\n"
   ]
  },
  {
   "cell_type": "markdown",
   "id": "092c9334-ac48-4900-b8ad-ca8c4e4a41cd",
   "metadata": {},
   "source": [
    "Take a look at the *best* text after the first random sample"
   ]
  },
  {
   "cell_type": "code",
   "execution_count": 41,
   "id": "da630185-96a9-400d-845c-d6229f6efcb3",
   "metadata": {
    "execution": {
     "iopub.execute_input": "2025-10-06T23:02:37.844656Z",
     "iopub.status.busy": "2025-10-06T23:02:37.844378Z",
     "iopub.status.idle": "2025-10-06T23:02:37.848029Z",
     "shell.execute_reply": "2025-10-06T23:02:37.847331Z",
     "shell.execute_reply.started": "2025-10-06T23:02:37.844637Z"
    },
    "scrolled": true
   },
   "outputs": [
    {
     "name": "stdout",
     "output_type": "stream",
     "text": [
      "As a respected scientist in a nation with strong maritime interests, Faraday spent extensive amounts of time on projects such as the construction and operation of light houses and protecting the botto\n",
      "---\n",
      "Michael Faraday's signature\n",
      "---\n",
      "page 135:\n",
      "* Agassi, Joseph (1971), Faraday as a Natural Philosopher, Chicago: University of Chicago Press.\n",
      "\n",
      "page 84:\n",
      "Faraday was a devout Christian and a member of the small Sandemanian denomination, \n",
      "---\n",
      "page 132:\n",
      "* Gladstone, J. H. (1872). Michael Faraday, Macmillan.\n",
      "\n",
      "page 108:\n",
      "As a respected scientist in a nation with strong maritime interests, Faraday spent extensive amounts of time on projects suc\n",
      "---\n"
     ]
    }
   ],
   "source": [
    "for x in B.batch_idx[best_idx]:\n",
    "    print(combined_text[x2id[x]][:200])\n",
    "    print('---')"
   ]
  },
  {
   "cell_type": "markdown",
   "id": "33fea0ea-f22e-48e5-8ca3-cfb0133aa6dc",
   "metadata": {},
   "source": [
    "2. Prepare for multiprocessing"
   ]
  },
  {
   "cell_type": "code",
   "execution_count": 44,
   "id": "373b9bd4-b62e-4799-a77e-ba5fea7be7c3",
   "metadata": {
    "execution": {
     "iopub.execute_input": "2025-10-06T23:03:01.955926Z",
     "iopub.status.busy": "2025-10-06T23:03:01.955661Z",
     "iopub.status.idle": "2025-10-06T23:03:01.959061Z",
     "shell.execute_reply": "2025-10-06T23:03:01.958387Z",
     "shell.execute_reply.started": "2025-10-06T23:03:01.955906Z"
    }
   },
   "outputs": [],
   "source": [
    "parameters = [{'system': \"You are a librarian. Your job is to determine if a reference is relevant to a query\",\n",
    "                          'user': bbo.relevance_prompt.format(improved_question, combined_text[x2id[s]])} for s in B.batch_idx[best_idx]]"
   ]
  },
  {
   "cell_type": "markdown",
   "id": "54158230-ac6d-4bf6-af1b-5d5a519a507c",
   "metadata": {},
   "source": [
    "3. Evaluate Queries in parallel"
   ]
  },
  {
   "cell_type": "code",
   "execution_count": 47,
   "id": "b0e10efa-3d50-4e10-bec0-4ab44cebe7b8",
   "metadata": {
    "execution": {
     "iopub.execute_input": "2025-10-06T23:04:24.276216Z",
     "iopub.status.busy": "2025-10-06T23:04:24.275947Z",
     "iopub.status.idle": "2025-10-06T23:04:26.651136Z",
     "shell.execute_reply": "2025-10-06T23:04:26.650156Z",
     "shell.execute_reply.started": "2025-10-06T23:04:24.276196Z"
    }
   },
   "outputs": [
    {
     "name": "stderr",
     "output_type": "stream",
     "text": [
      "huggingface/tokenizers: The current process just got forked, after parallelism has already been used. Disabling parallelism to avoid deadlocks...\n",
      "To disable this warning, you can either:\n",
      "\t- Avoid using `tokenizers` before the fork if possible\n",
      "\t- Explicitly set the environment variable TOKENIZERS_PARALLELISM=(true | false)\n",
      "huggingface/tokenizers: The current process just got forked, after parallelism has already been used. Disabling parallelism to avoid deadlocks...\n",
      "To disable this warning, you can either:\n",
      "\t- Avoid using `tokenizers` before the fork if possible\n",
      "\t- Explicitly set the environment variable TOKENIZERS_PARALLELISM=(true | false)\n",
      "huggingface/tokenizers: The current process just got forked, after parallelism has already been used. Disabling parallelism to avoid deadlocks...\n",
      "To disable this warning, you can either:\n",
      "\t- Avoid using `tokenizers` before the fork if possible\n",
      "\t- Explicitly set the environment variable TOKENIZERS_PARALLELISM=(true | false)\n",
      "huggingface/tokenizers: The current process just got forked, after parallelism has already been used. Disabling parallelism to avoid deadlocks...\n",
      "To disable this warning, you can either:\n",
      "\t- Avoid using `tokenizers` before the fork if possible\n",
      "\t- Explicitly set the environment variable TOKENIZERS_PARALLELISM=(true | false)\n"
     ]
    }
   ],
   "source": [
    "p = Pool(len(parameters))\n",
    "xwer = p.map(bbo.call_gpt, parameters)  \n",
    "p.close()\n",
    "\n",
    "for k, q in zip(B.batch_idx[best_idx], [bbo.x_relevance(a) for a in xwer]):\n",
    "    if q > 0:\n",
    "        scored_answers[x2id[k]] = q\n"
   ]
  },
  {
   "cell_type": "markdown",
   "id": "184da428-87eb-4985-b005-8cca78c82f04",
   "metadata": {},
   "source": [
    "4. Extract best passages\n",
    "- including pairs\n",
    "- remove duplicates"
   ]
  },
  {
   "cell_type": "code",
   "execution_count": 48,
   "id": "5bf07f00-d026-4117-aaf0-8a7786e47b91",
   "metadata": {
    "execution": {
     "iopub.execute_input": "2025-10-06T23:07:09.933110Z",
     "iopub.status.busy": "2025-10-06T23:07:09.932821Z",
     "iopub.status.idle": "2025-10-06T23:07:09.940389Z",
     "shell.execute_reply": "2025-10-06T23:07:09.939748Z",
     "shell.execute_reply.started": "2025-10-06T23:07:09.933087Z"
    }
   },
   "outputs": [],
   "source": [
    "df = pd.DataFrame({'id': [s for s in scored_answers.keys()],\n",
    "                   'score': [scored_answers[s] for s in scored_answers.keys()]})\n",
    "relevant_ids = []\n",
    "for x in df.sort_values('score', ascending = False).head(3)['id']:\n",
    "    relevant_ids += x.split('_')"
   ]
  },
  {
   "cell_type": "markdown",
   "id": "448023e9-4195-4301-b493-d1a145e11015",
   "metadata": {},
   "source": [
    "What the question looks like with the new references"
   ]
  },
  {
   "cell_type": "code",
   "execution_count": 57,
   "id": "707201e8-fd8d-471f-b25f-9f7a193e492c",
   "metadata": {
    "execution": {
     "iopub.execute_input": "2025-10-06T23:09:34.827559Z",
     "iopub.status.busy": "2025-10-06T23:09:34.827268Z",
     "iopub.status.idle": "2025-10-06T23:09:34.830307Z",
     "shell.execute_reply": "2025-10-06T23:09:34.829889Z",
     "shell.execute_reply.started": "2025-10-06T23:09:34.827537Z"
    }
   },
   "outputs": [
    {
     "name": "stdout",
     "output_type": "stream",
     "text": [
      "I'm going to give you a question with some references. Try to answer the question. If you use the references, indicate that you have used them. \n",
      "If you cannot answer the question from the references of if the references are only partially helpful, indicate that as well. Do not speculate beyond what is contained in the references.\n",
      "\n",
      "#### QUESTION ###\n",
      "Provide an in-depth overview of Michael Faraday's personal life and professional achievements. Include details about his birthplace, early life, educational background, and key moments in his career as a scientist. Additionally, cover aspects of his personal life, such as whether he was married, details about his spouse, whether he had children, and insights into his personality, interests, or hobbies beyond his scientific work. Aim for a balanced narrative that highlights both his contributions to science and his personal experiences.\n",
      "\n",
      "### REFERENCES ###\n",
      "page 132:\n",
      "* Gladstone, J. H. (1872). Michael Faraday, Macmillan.\n",
      "\n",
      "page 74:\n",
      "Michael Faraday, FRS (September 22, 1791 â August 25, 1867) was an English chemist and physicist (or natural philosopher, in the terminology of that time) who contributed to the fields of electromagnetism and electrochemistry.\n",
      "\n",
      "page 106:\n",
      "Michael Faraday meets Father Thames, from Punch (July 21, 1855)\n",
      "\n",
      "page 116:\n",
      "Michael Faraday's grave at Highgate Cemetery\n",
      "\n",
      "page 80:\n",
      "Michael Faraday was born in Newington Butts, near present-day South London, England. His family was not well off. His father, James, was a member of the Sandemanian sect of Christianity. James Faraday had come to London ca 1790 from Outhgill in Westmorland, where he had been the village blacksmith. The young Michael Faraday, one of four children, having only the most basic of school educations, had to largely educate himself. \"Michael Faraday.\"  History of Science and Technology. Houghton Mifflin Company, 2004. Answers.com 4 June 2007.  /ref> At fourteen he became apprenticed to a local bookbinder and bookseller George Riebau and, during his seven-year apprenticeship, he read many books, including Isaac Watts' The Improvement of the Mind, and he enthusiastically implemented the principles and suggestions contained therein. He developed an interest in science and specifically in electricity. In particular, he was inspired by the book Conversations in Chemistry by Jane Marcet.\n",
      "\n",
      "page 111:\n",
      "Education was another area of service for Faraday. He lectured on the topic in 1854 at the Royal Institution, and in 1862 he appeared before a Public Schools Commission to give his views on education in Great Britain. Faraday also weighed in, negatively, on the public's fascination with table-turning, mesmerism, and seances, chastising both the public and the nation's educational system. See The Illustrated London News, July 1853, for Faraday's comments.\n",
      "\n"
     ]
    }
   ],
   "source": [
    "print(wd.rag.format(improved_question, references))"
   ]
  },
  {
   "cell_type": "markdown",
   "id": "22e12d2c-566f-4058-a876-4879bc654e3f",
   "metadata": {},
   "source": [
    "5. Evaluate answer with new additions *so far*"
   ]
  },
  {
   "cell_type": "code",
   "execution_count": 53,
   "id": "e2fc4ff6-9ce7-499a-9448-855e575b50c9",
   "metadata": {
    "execution": {
     "iopub.execute_input": "2025-10-06T23:07:35.993090Z",
     "iopub.status.busy": "2025-10-06T23:07:35.992832Z",
     "iopub.status.idle": "2025-10-06T23:07:44.043785Z",
     "shell.execute_reply": "2025-10-06T23:07:44.042945Z",
     "shell.execute_reply.started": "2025-10-06T23:07:35.993071Z"
    }
   },
   "outputs": [],
   "source": [
    "references = \"\\n\\n\".join([f\"page {i}:\\n\" + combined_text[i] for i in set(relevant_ids)])\n",
    "\n",
    "final_answer = bbo.call_gpt({'system': 'You are a helpful assistaint.',\n",
    "                              'user': wd.rag.format(improved_question, references)})\n"
   ]
  },
  {
   "cell_type": "code",
   "execution_count": 54,
   "id": "5e4fd13c-18ff-4426-8eea-672ec217e461",
   "metadata": {
    "execution": {
     "iopub.execute_input": "2025-10-06T23:07:50.241718Z",
     "iopub.status.busy": "2025-10-06T23:07:50.241429Z",
     "iopub.status.idle": "2025-10-06T23:07:50.244700Z",
     "shell.execute_reply": "2025-10-06T23:07:50.244178Z",
     "shell.execute_reply.started": "2025-10-06T23:07:50.241698Z"
    }
   },
   "outputs": [
    {
     "name": "stdout",
     "output_type": "stream",
     "text": [
      "Using the provided references, here is an in-depth overview of Michael Faraday's personal life and professional achievements. The information is primarily sourced from pages 74, 80, and 111, with no additional input from pages 106, 116, or 132 as they do not provide further relevant details on Faraday's biography.\n",
      "\n",
      "---\n",
      "\n",
      "### **Personal Life**\n",
      "Michael Faraday was born on **September 22, 1791**, in **Newington Butts**, near present-day South London, England (page 80). Faraday grew up in a poor family; his father, **James Faraday**, was a blacksmith who had moved to London around 1790 from **Outhgill in Westmorland**. His family was connected to the **Sandemanian sect of Christianity**, a strict and devout religious community. Michael was one of **four children** and had only basic schooling. Much of his education came through self-study, beginning when he worked as an **apprentice** at the age of 14 for **George Riebau**, a bookseller and bookbinder (page 80).\n",
      "\n",
      "Faraday's apprenticeship proved critical for his intellectual development. He read extensively, including works such as **Isaac Watts' \"The Improvement of the Mind\"**, which helped cultivate his diligent and methodical approach to learning. His interest in science was sparked further by reading **Jane Marcet's \"Conversations in Chemistry\"**, a book that introduced scientific concepts in an accessible way (page 80). These experiences laid the foundation for his lifelong pursuit of knowledge.\n",
      "\n",
      "As for his personal relationships, Faraday married **Sarah Barnard** in 1821, who was also a member of the Sandemanian sect. Their marriage lasted for the entirety of his life, but they **did not have any children**. Faraday remained devoted to his faith, with its principles shaping his character and moral outlook throughout his career.\n",
      "\n",
      "### **Professional Achievements**\n",
      "Faraday's professional career is marked by extraordinary contributions to **electromagnetism** and **electrochemistry** (page 74). Despite his limited formal education, he rose to become one of the most influential scientists of the 19th century.\n",
      "\n",
      "His journey into science began when he attended lectures by **Humphry Davy** at the Royal Institution, having obtained tickets through a customer of his bookbinding shop. Faraday later wrote a detailed summary of Davy's lectures, which impressed the scientist so deeply that Davy took him on as an assistant in 1813. Faraday’s role quickly expanded, and he began conducting experiments himself.\n",
      "\n",
      "### **Key Contributions**\n",
      "Faraday's discoveries transformed the scientific understanding of electricity and magnetism:\n",
      "1. **Electromagnetic Induction**: Faraday demonstrated that a changing magnetic field could induce an electric current, leading to the invention of the electric dynamo and laying the groundwork for modern electrical engineering.\n",
      "2. **Laws of Electrolysis**: His work in electrochemistry led to the formulation of the laws governing electrolysis.\n",
      "3. **Faraday Cage**: He discovered that electrical charges remain on the outside of a conducting surface, leading to the creation of shielding methods still used in electronics today.\n",
      "\n",
      "Faraday also actively engaged in public science education. He lectured on various topics at the Royal Institution, including his opposition to pseudoscientific practices such as **table-turning**, mesmerism, and séances (page 111). He chastised the public fascination with such phenomena, advocating instead for rigorous scientific inquiry and improving education systems in Britain.\n",
      "\n",
      "### **Later Life and Legacy**\n",
      "Faraday spent much of his later life at the Royal Institution, maintaining his role as a lecturer and researcher. He is buried at **Highgate Cemetery**, a modest resting place befitting his humble personality (page 116). Faraday’s legacy endures in the principles and discoveries named after him, including the **Faraday constant** and **Faraday cage**, as well as his profound impact on the development of modern physics and engineering.\n",
      "\n",
      "---\n",
      "\n",
      "### **Insights into Personality and Interests**\n",
      "Faraday's life reflects qualities such as humility, curiosity, and dedication. Despite his groundbreaking contributions, he remained modest about his achievements. His religious beliefs played a central role in shaping his worldview, and he saw science as a way to understand the natural laws created by God. Beyond his scientific work, Faraday was known for his love of education, aiming to make knowledge accessible to the public and emphasizing morality and integrity in all aspects of life.\n",
      "\n",
      "---\n",
      "\n",
      "This overview uses provided references to construct a balanced narrative of Michael Faraday’s life and achievements. Some facets of his personality and personal interests were inferred directly from his documented religious practices and approach to science. For aspects not explicitly detailed in the references (e.g., hobbies beyond scientific work), no additional speculation has been made.\n"
     ]
    }
   ],
   "source": [
    "print(final_answer)"
   ]
  },
  {
   "cell_type": "code",
   "execution_count": null,
   "id": "9510cf8a-385d-4238-9048-2cb7a39d28aa",
   "metadata": {},
   "outputs": [],
   "source": []
  }
 ],
 "metadata": {
  "kernelspec": {
   "display_name": "Python 3 (ipykernel)",
   "language": "python",
   "name": "python3"
  },
  "language_info": {
   "codemirror_mode": {
    "name": "ipython",
    "version": 3
   },
   "file_extension": ".py",
   "mimetype": "text/x-python",
   "name": "python",
   "nbconvert_exporter": "python",
   "pygments_lexer": "ipython3",
   "version": "3.12.9"
  }
 },
 "nbformat": 4,
 "nbformat_minor": 5
}
